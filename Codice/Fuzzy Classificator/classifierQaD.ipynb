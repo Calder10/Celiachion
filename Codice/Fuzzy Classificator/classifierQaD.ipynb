{
 "cells": [
  {
   "cell_type": "code",
   "execution_count": 1,
   "metadata": {},
   "outputs": [],
   "source": [
    "import pandas as pd\n",
    "import numpy as np\n",
    "import FuzzyClassificator as fc\n",
    "import fylearn.fuzzylogic as ff\n",
    "from sklearn.model_selection import train_test_split\n",
    "from fylearn.fuzzylogic import TriangularSet\n",
    "from FCLogger import SetLevel\n",
    "import constant"
   ]
  },
  {
   "cell_type": "markdown",
   "metadata": {},
   "source": [
    "## Lettura del file dati"
   ]
  },
  {
   "cell_type": "code",
   "execution_count": 2,
   "metadata": {},
   "outputs": [],
   "source": [
    "resource_path = \"Dataset/\"\n",
    "dataset_file = \"dataset_virtuale.csv\"\n",
    "data = pd.read_csv(resource_path + dataset_file)\n",
    "num_columns = data.shape[1] - 1"
   ]
  },
  {
   "cell_type": "markdown",
   "metadata": {},
   "source": [
    "## Preparazione del Dataset\n",
    "### Eliminazione dei valori NaN"
   ]
  },
  {
   "cell_type": "code",
   "execution_count": 3,
   "metadata": {},
   "outputs": [],
   "source": [
    "for column in data.columns:\n",
    "    data[column] = pd.to_numeric(data[column])\n",
    "    replace_with = float(data[column].sum()) / data.shape[0]\n",
    "    data[column].fillna(replace_with, inplace=True)\n",
    "data.to_csv(resource_path + \"without_nan.csv\")"
   ]
  },
  {
   "cell_type": "markdown",
   "metadata": {},
   "source": [
    "## Creazione di _Training_ e _Test_ set"
   ]
  },
  {
   "cell_type": "code",
   "execution_count": 13,
   "metadata": {},
   "outputs": [],
   "source": [
    "train, test = train_test_split(data, test_size=0.3, random_state=0)\n",
    "test[\"Class\"].replace({0: \"\", 1: \"\"}, inplace=True)\n",
    "train.to_csv(\"ethalons.csv\", index=False)\n",
    "test.to_csv(\"candidates.csv\", index=False)"
   ]
  },
  {
   "cell_type": "markdown",
   "metadata": {},
   "source": [
    "## Training"
   ]
  },
  {
   "cell_type": "code",
   "execution_count": 22,
   "metadata": {},
   "outputs": [
    {
     "name": "stdout",
     "output_type": "stream",
     "text": [
      "usage: ipykernel_launcher.py [-h] [-v] [-l DEBUG_LEVEL] [-e ETHALONS]\n",
      "                             [-c CANDIDATES] [-n NETWORK] [-r REPORT]\n",
      "                             [-bn BEST_NETWORK] [-bni BEST_NETWORK_INFO]\n",
      "                             [-ic IGNORE_COL] [-ir IGNORE_ROW]\n",
      "                             [-sep SEPARATOR] [--no-fuzzy] [--show-expected]\n",
      "                             [--reload] [-u UPDATE]\n",
      "                             [--learn LEARN [LEARN ...]]\n",
      "                             [--classify CLASSIFY [CLASSIFY ...]]\n",
      "ipykernel_launcher.py: error: unrecognized arguments: -f /Users/metabacchi/Library/Jupyter/runtime/kernel-19f339aa-0b99-469f-931a-2d4d7530339d.json\n"
     ]
    },
    {
     "ename": "SystemExit",
     "evalue": "2",
     "output_type": "error",
     "traceback": [
      "An exception has occurred, use %tb to see the full traceback.\n",
      "\u001b[0;31mSystemExit\u001b[0m\u001b[0;31m:\u001b[0m 2\n"
     ]
    }
   ],
   "source": [
    "fc.EthalonDataFile = \"ethalons.csv\"\n",
    "fc.candidatesDataFile = \"candidates.csv\"\n",
    "fc.neuroNetworkFile = \"network.xml\"\n",
    "fc.sepSymbol = \",\"\n",
    "SetLevel(\"DEBUG\")\n",
    "parameters = {\n",
    "    \"config\": str(num_columns) + \",3,2,1\",\n",
    "    \"epochs\": 120,\n",
    "    \"rate\": 0.6,\n",
    "    \"momentum\": 0.38,\n",
    "    \"epsilon\": 0.044,\n",
    "    \"stop\": 1,\n",
    "}\n",
    "fc.Main(learnParameters=parameters)"
   ]
  }
 ],
 "metadata": {
  "kernelspec": {
   "display_name": "Python 3",
   "language": "python",
   "name": "python3"
  },
  "language_info": {
   "codemirror_mode": {
    "name": "ipython",
    "version": 3
   },
   "file_extension": ".py",
   "mimetype": "text/x-python",
   "name": "python",
   "nbconvert_exporter": "python",
   "pygments_lexer": "ipython3",
   "version": "3.7.4"
  }
 },
 "nbformat": 4,
 "nbformat_minor": 4
}
